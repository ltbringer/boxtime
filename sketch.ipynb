{
 "cells": [
  {
   "cell_type": "code",
   "execution_count": null,
   "metadata": {},
   "outputs": [],
   "source": [
    "from datetime import datetime\n",
    "\n",
    "from boxtime.vendor.calendar import EventService\n",
    "from boxtime.vis.aggregate import Period\n",
    "from boxtime.vis.colors import Color\n",
    "from boxtime.vis.heatmap import plot_heatmap\n",
    "from boxtime.vis.violin import plot_violin\n",
    "from boxtime.vis.radar import plot_radar"
   ]
  },
  {
   "cell_type": "code",
   "execution_count": null,
   "metadata": {},
   "outputs": [],
   "source": [
    "start = datetime(2023, 12, 1)\n",
    "end = datetime(2023, 12, 31)\n",
    "tags = {\n",
    "    Color.BANANA: \"toil\",\n",
    "    Color.FLAMINGO: \"stand-up\",\n",
    "    Color.TANGERINE: \"demo\",\n",
    "    Color.TOMATO: \"incidents\",\n",
    "    Color.PEACOCK: \"interviews\",\n",
    "    Color.BLUEBERRY: \"coaching\",\n",
    "    Color.LAVENDER: \"1-on-1\",\n",
    "    Color.GRAPE: \"networking\",\n",
    "    Color.BASIL: \"impact\",\n",
    "    Color.SAGE: \"planning\",\n",
    "    Color.GRAPHITE: \"documentation\",\n",
    "}\n",
    "events = EventService.list(start, end, tags, expand_recurring=False)"
   ]
  },
  {
   "cell_type": "code",
   "execution_count": null,
   "metadata": {},
   "outputs": [],
   "source": [
    "plot_heatmap(events, save_key=\"dec29\")"
   ]
  },
  {
   "cell_type": "code",
   "execution_count": null,
   "metadata": {},
   "outputs": [],
   "source": [
    "plot_violin(events, tags, Period.DAY_OF_WEEK, save_key=\"dec29\")"
   ]
  },
  {
   "cell_type": "code",
   "execution_count": null,
   "metadata": {},
   "outputs": [],
   "source": [
    "plot_radar(events, tags, save_key=\"dec29\")"
   ]
  }
 ],
 "metadata": {
  "kernelspec": {
   "display_name": "py310",
   "language": "python",
   "name": "python3"
  },
  "language_info": {
   "codemirror_mode": {
    "name": "ipython",
    "version": 3
   },
   "file_extension": ".py",
   "mimetype": "text/x-python",
   "name": "python",
   "nbconvert_exporter": "python",
   "pygments_lexer": "ipython3",
   "version": "3.10.13"
  }
 },
 "nbformat": 4,
 "nbformat_minor": 2
}
